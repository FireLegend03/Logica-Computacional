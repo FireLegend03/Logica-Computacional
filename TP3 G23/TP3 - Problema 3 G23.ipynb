{
 "cells": [
  {
   "cell_type": "markdown",
   "metadata": {},
   "source": [
    "# **TP3 - Problema 3**\n",
    "\n",
    "### **Grupo 23**\n",
    "\n",
    "Pedro Gonçalves a101250\n",
    "<br>\n",
    "José Loureiro a96467\n",
    "<br>\n",
    "Bruno Neiva a95311\n"
   ]
  },
  {
   "cell_type": "markdown",
   "metadata": {},
   "source": [
    "### **Problema**\n",
    "\n",
    "Considere de novo o 1º problema do trabalho TP2  relativo à descrição da cifra $$\\,\\mathsf{A5/1}$$ e o FOTS usando BitVec’s que aì foi definido para a componente do gerador de chaves. Ignore a componente de geração final da chave e restrinja o modelo aos três LFSR’s. \n",
    "Sejam $$\\,\\mathsf{X}_0, \\mathsf{X}_1, \\mathsf{X}_2\\,$$ as variáveis que determinam os estados dos três LFSR’s que ocorrem neste modelo. Como condição inicial  e condição de erro use os predicados\n",
    "        $$\\,\\mathsf{I} \\ ;\\equiv\\; (\\mathsf{X}_0 > 0)\\,\\land\\,(\\mathsf{X}_1 > 0)\\,\\land\\,(\\mathsf{X}_2 > 0)\\quad$$ e $$\\quad \\mathsf{E}\\;\\equiv\\;\\neg\\,\\mathsf{I}$$\n",
    "    \n",
    "**1.** **Codifique** em “z3” o SFOTS assim definido.\n",
    "\n",
    "\n",
    "**2.** **Use o algoritmo PDR** “property directed reachability” (codifique-o ou use uma versão pré-existente) e, com ele, tente **provar a segurança** deste modelo.\n",
    "\n",
    "    \n"
   ]
  },
  {
   "cell_type": "markdown",
   "metadata": {},
   "source": [
    "## **Implementação**"
   ]
  },
  {
   "cell_type": "markdown",
   "metadata": {},
   "source": [
    "Para a resolução deste exercício precisamos de utilizar *BitVectors* para representar vetores de *bits* neste caso, vamos faze uso do tipo de dados **BitVec** já presente na bibilioteca **z3** que pode ser instalada com o comando `pip install z3-solver`, pois incluí métodos base de manipulação sobre estes *BitVectors* como os presentes abaixo. Vamos importar também o **Solver** para verificarmos algumas propriedades do problema."
   ]
  },
  {
   "cell_type": "code",
   "execution_count": 1,
   "metadata": {},
   "outputs": [],
   "source": [
    "from pysmt.shortcuts import *"
   ]
  },
  {
   "cell_type": "markdown",
   "metadata": {},
   "source": [
    "\n",
    "### **Passo 1: Codificação do SFOTS no Z3**\n",
    "\n",
    "O modelo SFOTS é descrito com:\n",
    "\n",
    "- *Estado*:   Vetores X0, X1, X2.\n",
    "- *Condição inicial*:   I ≡ (X0 > 0) ∧ (X1 > 0) ∧ (X2 > 0).\n",
    "- *Condição de erro*:   E ≡ ¬I.\n",
    "- *Transições*:   Representam o comportamento dos LFSRs em cada passo.\n",
    "\n",
    "\n",
    "\n",
    "#### **Código Z3 para o SFOTS:**"
   ]
  },
  {
   "cell_type": "code",
   "execution_count": 2,
   "metadata": {},
   "outputs": [],
   "source": [
    "def declare(i):\n",
    "\n",
    "    state = {}\n",
    "\n",
    "    state['node'] = Symbol('node' + str(i), INT)\n",
    "    state['x0'] = Symbol('x0' + str(i), BVType(19))\n",
    "    state['x1'] = Symbol('x1' + str(i), BVType(22))\n",
    "    state['x2'] = Symbol('x2' + str(i), BVType(23))\n",
    "\n",
    "    return state"
   ]
  },
  {
   "cell_type": "markdown",
   "metadata": {},
   "source": [
    "### **Função init**"
   ]
  },
  {
   "cell_type": "code",
   "execution_count": 3,
   "metadata": {},
   "outputs": [],
   "source": [
    "def init(state):    \n",
    "    return And(\n",
    "        Equals(state['x0'], BV(1111, 19)),  \n",
    "        Equals(state['x1'], BV(11111, 22)),  \n",
    "        Equals(state['x2'], BV(12222, 23)),\n",
    "        Equals(state['node'], Int(0))\n",
    "    )"
   ]
  },
  {
   "cell_type": "markdown",
   "metadata": {},
   "source": [
    "### **Função err**"
   ]
  },
  {
   "cell_type": "code",
   "execution_count": 4,
   "metadata": {},
   "outputs": [],
   "source": [
    "def err(state):    # x <= 0\n",
    "    return Or(\n",
    "        BVULE(state['x0'], BV(0, 19)),\n",
    "        BVULE(state['x1'], BV(0, 22)),  \n",
    "        BVULE(state['x2'], BV(0, 23)),\n",
    "    )"
   ]
  },
  {
   "cell_type": "markdown",
   "metadata": {},
   "source": [
    "### **Bits de controlo**"
   ]
  },
  {
   "cell_type": "code",
   "execution_count": 5,
   "metadata": {},
   "outputs": [],
   "source": [
    "def b_zero (state):\n",
    "\n",
    "    b0 = BVExtract(state['x0'], 8, 8)\n",
    "    b1 = BVExtract(state['x1'], 10, 10)\n",
    "    b2 = BVExtract(state['x2'], 10, 10)\n",
    "\n",
    "    return Or(Equals(b0,b1), Equals(b0,b2))\n",
    "\n",
    "def b_one (state):\n",
    "\n",
    "    b0 = BVExtract(state['x0'], 8, 8)\n",
    "    b1 = BVExtract(state['x1'], 10, 10)\n",
    "    b2 = BVExtract(state['x2'], 10, 10)\n",
    "\n",
    "    return Or(Equals(b1,b0), Equals(b1,b2))\n",
    "\n",
    "def b_two (state):\n",
    "\n",
    "    b0 = BVExtract(state['x0'], 8, 8)\n",
    "    b1 = BVExtract(state['x1'], 10, 10)\n",
    "    b2 = BVExtract(state['x2'], 10, 10)\n",
    "\n",
    "    return Or(Equals(b2,b0), Equals(b2,b1))"
   ]
  },
  {
   "cell_type": "markdown",
   "metadata": {},
   "source": [
    "### **Função transição**"
   ]
  },
  {
   "cell_type": "code",
   "execution_count": 6,
   "metadata": {},
   "outputs": [],
   "source": [
    "def trans(atual, prox):\n",
    "\n",
    "    s0 = BV(466944,19)\n",
    "    s1 = BV(3145728,22)\n",
    "    s2 = BV(7340160,23)\n",
    "    \n",
    "\n",
    "    t0 = And(b_zero(atual), b_one(atual), b_two(atual),\n",
    "             Equals(prox['x0'], BVXor(BVLShl(atual['x0'], BV(1, 19)), BVXor(s0, atual['x0']))),\n",
    "             Equals(prox['x1'], BVXor(BVLShl(atual['x1'], BV(1, 22)), BVXor(s1, atual['x1']))),\n",
    "             Equals(prox['x2'], BVXor(BVLShl(atual['x2'], BV(1, 23)), BVXor(s2, atual['x2'])))\n",
    "    )\n",
    "\n",
    "    t1 = And(b_zero(atual), b_one(atual), Not(b_two(atual)),\n",
    "             Equals(prox['x0'], BVXor(BVLShl(atual['x0'], BV(1, 19)), BVXor(s0, atual['x0']))),\n",
    "             Equals(prox['x1'], BVXor(BVLShl(atual['x1'], BV(1, 22)), BVXor(s1, atual['x1']))),\n",
    "             Equals(prox['x2'], atual['x2'])\n",
    "    )\n",
    "\n",
    "    t2 = And(b_zero(atual), Not(b_one(atual)), b_two(atual),\n",
    "            Equals(prox['x0'], BVXor(BVLShl(atual['x0'], BV(1, 19)), BVXor(s0, atual['x0']))),\n",
    "            Equals(prox['x2'], BVXor(BVLShl(atual['x2'], BV(1, 23)), BVXor(s2, atual['x2']))),\n",
    "            Equals(prox['x1'], atual['x1'])\n",
    "    )\n",
    "\n",
    "    t3 = And(Not(b_zero(atual)), b_one(atual), b_two(atual),\n",
    "            Equals(prox['x1'], BVXor(BVLShl(atual['x1'], BV(1, 22)), BVXor(s1, atual['x1']))),\n",
    "            Equals(prox['x2'], BVXor(BVLShl(atual['x2'], BV(1, 23)), BVXor(s2, atual['x2']))),\n",
    "            Equals(prox['x0'], atual['x0'])\n",
    "    )\n",
    "\n",
    "    t4 = And(BVULE(atual['x0'], BV(0, 19)),\n",
    "            BVULE(atual['x1'], BV(0, 22)),\n",
    "            BVULE(atual['x2'], BV(0, 23)),\n",
    "            Equals(prox['x0'], atual['x0']),\n",
    "            Equals(prox['x1'], atual['x1']),\n",
    "            Equals(prox['x2'], atual['x2'])\n",
    "    )\n",
    "    \n",
    "    return Or(t0, t1, t2, t3, t4)"
   ]
  },
  {
   "cell_type": "code",
   "execution_count": 7,
   "metadata": {},
   "outputs": [],
   "source": [
    "def SFOTS(k):\n",
    "    \n",
    "    with Solver(name=\"z3\") as s:\n",
    "        #declara os estados\n",
    "        trace = [declare(i) for i in range(k+1)]\n",
    "        \n",
    "        #adiciona restrição inicial\n",
    "        s.add_assertion(init(trace[0]))\n",
    "\n",
    "        #adiciona as transições ao solver\n",
    "        for i in range(k):\n",
    "            s.add_assertion(trans(trace[i], trace[i+1]))\n",
    "\n",
    "        #executa o automato para os k passos\n",
    "        if s.solve():\n",
    "            for i in range(k):\n",
    "                print(\"Passo\", i)\n",
    "                for v in trace[i]:\n",
    "                    print(v, \"=\", s.get_value(trace[i][v]))\n",
    "                print(\"-----------\")\n"
   ]
  },
  {
   "cell_type": "markdown",
   "metadata": {},
   "source": [
    "### **Função pdr**"
   ]
  },
  {
   "cell_type": "code",
   "execution_count": 8,
   "metadata": {},
   "outputs": [],
   "source": [
    "def pdr(k):\n",
    "    with Solver(name=\"z3\") as s:\n",
    "        # Declara os estados\n",
    "        trace = [declare(i) for i in range(k+1)]\n",
    "        \n",
    "        # Condições iniciais\n",
    "        s.add_assertion(init(trace[0]))\n",
    "        \n",
    "        # Condição de erro\n",
    "        cond_erro = err(trace[k])\n",
    "        \n",
    "        # Começa assumindo que a condição de erro não é alcançável\n",
    "        alcançável = Not(cond_erro)\n",
    "        s.add_assertion(alcançável)\n",
    "        \n",
    "        for i in range(k):\n",
    "            # Transição do estado i para o estado i+1\n",
    "            s.add_assertion(trans(trace[i], trace[i+1]))\n",
    "        \n",
    "        # Verifica se a condição alcançável se mantém para o último estado\n",
    "        while True:\n",
    "            # Verifica se a condição alcançável é satisfatível\n",
    "            if s.solve():\n",
    "                # Se satisfatível, significa que podemos alcançar o estado de erro, então precisamos refinar nossa condição alcançável\n",
    "                # Vamos criar uma nova condição que bloqueia esse caminho\n",
    "                novo_bloqueio = Or(*[trans(trace[i], trace[i+1]) for i in range(k)])\n",
    "                alcançável = And(alcançável, Not(novo_bloqueio))\n",
    "                s.add_assertion(alcançável)\n",
    "            else:\n",
    "                # Se insatisfatível, significa que o estado de erro não pode ser alcançado\n",
    "                print(\"O estado de erro não é alcançável a partir do estado inicial.\")\n",
    "                break"
   ]
  },
  {
   "cell_type": "code",
   "execution_count": 9,
   "metadata": {},
   "outputs": [
    {
     "name": "stdout",
     "output_type": "stream",
     "text": [
      "Passo 0\n",
      "node = 0\n",
      "x0 = 1111_19\n",
      "x1 = 11111_22\n",
      "x2 = 12222_23\n",
      "-----------\n",
      "Passo 1\n",
      "node = 0\n",
      "x0 = 470265_19\n",
      "x1 = 3177897_22\n",
      "x2 = 12222_23\n",
      "-----------\n",
      "Passo 2\n",
      "node = 0\n",
      "x0 = 470265_19\n",
      "x1 = 2131707_22\n",
      "x2 = 7368770_23\n",
      "-----------\n",
      "Passo 3\n",
      "node = 0\n",
      "x0 = 414987_19\n",
      "x1 = 2131707_22\n",
      "x2 = 6328390_23\n",
      "-----------\n",
      "Passo 4\n",
      "node = 0\n",
      "x0 = 384797_19\n",
      "x1 = 1149709_22\n",
      "x2 = 6328390_23\n",
      "-----------\n",
      "Passo 5\n",
      "node = 0\n",
      "x0 = 384797_19\n",
      "x1 = 171287_22\n",
      "x2 = 5353546_23\n",
      "-----------\n",
      "Passo 6\n",
      "node = 0\n",
      "x0 = 82215_19\n",
      "x1 = 3647289_22\n",
      "x2 = 5353546_23\n",
      "-----------\n",
      "Passo 7\n",
      "node = 0\n",
      "x0 = 320361_19\n",
      "x1 = 2681163_22\n",
      "x2 = 5353546_23\n",
      "-----------\n",
      "Passo 8\n",
      "node = 0\n",
      "x0 = 320361_19\n",
      "x1 = 605149_22\n",
      "x2 = 184414_23\n",
      "-----------\n",
      "Passo 9\n",
      "node = 0\n",
      "x0 = 320361_19\n",
      "x1 = 2837607_22\n",
      "x2 = 7827554_23\n",
      "-----------\n",
      "O estado de erro não é alcançável a partir do estado inicial.\n"
     ]
    }
   ],
   "source": [
    "SFOTS(10)\n",
    "pdr(10)"
   ]
  }
 ],
 "metadata": {
  "kernelspec": {
   "display_name": "logica",
   "language": "python",
   "name": "python3"
  },
  "language_info": {
   "codemirror_mode": {
    "name": "ipython",
    "version": 3
   },
   "file_extension": ".py",
   "mimetype": "text/x-python",
   "name": "python",
   "nbconvert_exporter": "python",
   "pygments_lexer": "ipython3",
   "version": "3.10.14"
  }
 },
 "nbformat": 4,
 "nbformat_minor": 2
}
