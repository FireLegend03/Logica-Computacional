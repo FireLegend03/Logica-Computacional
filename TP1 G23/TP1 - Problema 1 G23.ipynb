{
 "cells": [
  {
   "cell_type": "markdown",
   "metadata": {},
   "source": [
    "# TP1 - Problema 1\n",
    "\n",
    "Grupo 23\n",
    "<br>\n",
    "Pedro Gonçalves a101250\n",
    "<br>\n",
    "José Loureiro a96467\n",
    "<br>\n",
    "Bruno Neiva a95311\n",
    "\n",
    "Problema 1:\n",
    "<br>\n",
    "Pretende-se construir um horário semanal para o plano de reuniões de projeto de uma “StartUp” de acordo com as seguintes condições:\n",
    "a. Cada reunião ocupa uma sala (enumeradas 1...S) durante um “slot” (tempo,dia). Assume-se os dias enumerados 1..D e, em cada dia, os tempos enumerados 1..T.\n",
    "<br>\n",
    "b. Cada reunião tem associado um projeto (enumerados 1...P) e um conjunto de participantes. Os diferentes colaboradores são enumerados de 1...C.\n",
    "<br>\n",
    "c. Cada projeto tem associado um conjunto de colaboradores, dos quais um  é o líder. Cada projeto realiza um dado número de reuniões semanais.\n",
    "<br>\n",
    "d. O líder do projeto participa em todas as reuniões do seu projeto; os restantes colaboradores podem ou não participar consoante a sua disponibilidade, num mínimo (“quorum”) de  50\\% do total de colaboradores do projeto.  A disponibilidade de cada participante, incluindo o lider,  é um conjunto de “slots” (“inputs” do problema).\n",
    "\n",
    "\"Inputs\" do problema:\n",
    "1. Os parâmetros S, D, T, P e C.\n",
    "2. O número mínimo de reuniões semanais, o conjunto de colaboradores de cada projeto, assim como o seu lider.\n",
    "3. A disponibilidade de cada colaborador, incluindo o lider. Esta disponibilidade será um conjunto de \"slots\" representada por uma matriz booleana.\n",
    "\n",
    "Optimização:\n",
    "1. Maximizar o número de reuniões realizadas."
   ]
  },
  {
   "cell_type": "code",
   "execution_count": 48,
   "metadata": {},
   "outputs": [],
   "source": [
    "from ortools.linear_solver import pywraplp\n",
    "horario = pywraplp.Solver.CreateSolver(\"SCIP\")\n",
    "#Exemplo 1 (caso impossível)\n",
    "'''S, D, T, P, C = 3, 5, 8, 1, 3\n",
    "#3 salas, 5 dias, 8 horas, 1 projeto, 3 colaboradores\n",
    "colab_por_proj = {0 : [0,1,2]}\n",
    "lider_proj = {0 : 1}\n",
    "n_reunioes = {0 : 1}\n",
    "\n",
    "disponibilidade = {0 : [(0,0)],\n",
    "                  1 : [(1,3), (2,2)],\n",
    "                  2 : [(1,3), (2,4)]\n",
    "                  }'''\n",
    "#Exemplo 2\n",
    "S, D, T, P, C = 2, 5, 7, 4, 4\n",
    "colab_por_proj = {\n",
    "    0: [0,1,3],\n",
    "    1: [0,1,2],\n",
    "    2: [1,2,3],\n",
    "    3: [0,2,3]\n",
    "}\n",
    "lider_proj = {0: 0, 1: 1, 2: 2, 3: 3}\n",
    "n_reunioes = {0: 10, 1: 6, 2: 12, 3: 10}\n",
    "disponibilidade = {\n",
    "0:[(1, 1), (1, 2), (1, 3), (1, 4), (1, 5), (1, 7), (2, 1), (2, 2), (2, 3), (2, 4), (2, 5), (2, 6), (2, 7), (3, 1),\n",
    "(3, 2), (3, 3), (3, 4), (3, 5),(3, 6), (4, 1), (4, 2), (4, 3), (4, 4), (4, 5), (4, 6), (4, 7)],\n",
    "1:[(1, 1), (1, 2), (1, 3), (1, 4), (1, 5), (1, 6), (1, 7), (2, 1), (2, 2), (2, 3), (2, 4), (2, 5), (2, 6), (2, 7),\n",
    "(3, 1), (3, 2), (3, 3), (3, 5), (3, 6), (3, 7), (4, 1), (4, 3), (4, 4), (4, 5), (4, 6), (4, 7)],\n",
    "2:[(1, 1), (1, 2), (1, 3), (1, 4), (1, 5), (1, 6), (1, 7), (2, 1), (2, 3), (2, 4), (2, 5), (2, 6), (2, 7), (3, 1),\n",
    "(3, 2), (3, 3), (3, 4), (3, 5), (3, 6), (3, 7), (4, 1), (4, 2), (4, 3), (4, 4), (4, 5), (4, 6), (4, 7)],\n",
    "3:[(1, 1), (1, 2), (1, 3), (1, 4), (1, 5), (1, 6), (1, 7), (2, 1), (2, 2), (2, 3), (2, 4), (2, 5), (2, 6), (2, 7),\n",
    "(3, 1), (3, 2), (3, 3), (3, 4), (3, 5), (3, 6), (3, 7), (4, 1), (4, 2), (4, 3), (4, 4), (4, 5), (4, 6),\n",
    "(4, 7)]\n",
    "}\n",
    "\n",
    "#Inicializar as matrizes\n",
    "x = {}\n",
    "for s in range(S):\n",
    "    x[s] = {}\n",
    "    for d in range(D):\n",
    "        x[s][d] = {}\n",
    "        for h in range(T):\n",
    "            x[s][d][h] = {}\n",
    "            for p in range(P):\n",
    "                x[s][d][h][p] = horario.BoolVar(f\"x[{s}][{d}][{h}][{p}]\")\n",
    "                \n",
    "y = {}\n",
    "for c in range(C):\n",
    "    y[c] = {}\n",
    "    for d in range(D):\n",
    "        y[c][d] = {}\n",
    "        for h in range(T):\n",
    "            y[c][d][h] = {}\n",
    "            for p in range(P):\n",
    "                y[c][d][h][p] = horario.BoolVar(f\"y[{c}][{d}][{h}][{p}]\")\n",
    "                \n"
   ]
  },
  {
   "cell_type": "markdown",
   "metadata": {},
   "source": [
    "Iremos agora modelar e introduzir as restrições no solver:\n",
    "\n",
    "1. Cada reunião tem de ter 50% ou mais participação dos seus colaboradores.\n",
    "\n",
    "$$\n",
    "\\forall_{d < D} \\;\\forall_{p < P} \\;\\forall_{h < T} \\;\\sum_{c < C} y_{c,d,h,p} \\geq 0.5 \\cdot len(colabPorProj[p])\n",
    "$$"
   ]
  },
  {
   "cell_type": "code",
   "execution_count": 49,
   "metadata": {},
   "outputs": [],
   "source": [
    "for d in range(D):\n",
    "    for p in range(P):\n",
    "        for t in range(T):\n",
    "            lider = lider_proj[p]\n",
    "            colabs = colab_por_proj[p]\n",
    "            horario.Add(sum([y[c][d][t][p] for c in colabs]) >= 0.5*len(colabs)*y[lider][d][t][p])"
   ]
  },
  {
   "cell_type": "markdown",
   "metadata": {},
   "source": [
    "2. Certificar que o líder participa em todas as reuniões do seu projeto.\n",
    "\n",
    "$$\n",
    "\\forall_ {d<D} \\;\\forall_{p < P} \\;\\forall_{h < T} \\sum_{s<S} x_{s,d,h,p}==y_{lider,d,h,p}\n",
    "$$"
   ]
  },
  {
   "cell_type": "code",
   "execution_count": 50,
   "metadata": {},
   "outputs": [],
   "source": [
    "for d in range(D):\n",
    "    for p in range(P):\n",
    "        for t in range(T):\n",
    "            lider = lider_proj[p]\n",
    "            horario.Add(sum([x[s][d][t][p] for s in range(S)]) == y[lider][d][t][p])"
   ]
  },
  {
   "cell_type": "markdown",
   "metadata": {},
   "source": [
    "3. Os colaboradores apenas podem participar nas reuniões quando têm disponibilidade.\n",
    "\n",
    "$$\n",
    "\\forall_{p<P} . \\forall_{c<C} . \\forall_{d<D} . \\forall_{h<T} \\cdot (h,d) \\notin disponibilidade(c) \\implies  y_{c,d,h,p}==0\n",
    "$$"
   ]
  },
  {
   "cell_type": "code",
   "execution_count": 51,
   "metadata": {},
   "outputs": [],
   "source": [
    "for d in range(D):\n",
    "    for t in range(T):\n",
    "        for p in range(P):\n",
    "            for c in range(C):\n",
    "                if (d,t) not in disponibilidade[c]:\n",
    "                    horario.Add(y[c][d][t][p] == 0)"
   ]
  },
  {
   "cell_type": "markdown",
   "metadata": {},
   "source": [
    "4. Verificar se é satisfeito o número de reuniões semanais. \n",
    "\n",
    "$$\n",
    "\\forall_{p < P} \\sum_{s < S, d < D, h < T} x_{s,d,h,p} \\geq nReuioes[p]\n",
    "$$"
   ]
  },
  {
   "cell_type": "code",
   "execution_count": 52,
   "metadata": {},
   "outputs": [],
   "source": [
    "for p in range(P):\n",
    "    reunioes = n_reunioes[p]\n",
    "    horario.Add(sum([x[s][d][t][p] for s in range(S) for d in range(D) for t in range(T)]) == reunioes)"
   ]
  },
  {
   "cell_type": "markdown",
   "metadata": {},
   "source": [
    "5. Verificar que cada colaborador não está em mais do que uma reunião ao mesmo tempo.\n",
    "\n",
    "$$\n",
    "\\forall_{c < C} \\;\\forall_{d < D} \\;\\forall_{h < T} \\sum_{p < P} y_{c,d,h,p} \\leq 1\n",
    "$$"
   ]
  },
  {
   "cell_type": "code",
   "execution_count": 53,
   "metadata": {},
   "outputs": [],
   "source": [
    "for c in range(C):\n",
    "    for d in range(D):\n",
    "        for t in range(T):\n",
    "            horario.Add(sum([y[c][d][t][p] for p in range(P)]) <= 1)"
   ]
  },
  {
   "cell_type": "markdown",
   "metadata": {},
   "source": [
    "6. Cada sala apenas só pode ser usada para uma reunião de cada vez.\n",
    "\n",
    "$$\n",
    "\\forall_{s < S} \\;\\forall_{d < D} \\;\\forall_{h < T} \\sum_{p < P} x_{s,d,h,p} \\leq 1\n",
    "$$"
   ]
  },
  {
   "cell_type": "code",
   "execution_count": 54,
   "metadata": {},
   "outputs": [],
   "source": [
    "for s in range(S):\n",
    "    for d in range(D):\n",
    "        for t in range(T):\n",
    "            horario.Add(sum([x[s][d][t][p] for p in range(P)]) <= 1)"
   ]
  },
  {
   "cell_type": "markdown",
   "metadata": {},
   "source": [
    "7. Certificar que apenas os colaboradores de um projeto participam na sua reunião.\n",
    "\n",
    "$$\n",
    "\\forall_{c < C} \\;\\forall_{d < D} \\;\\forall_{h < T} \\;\\forall_{p < P} \\cdot c \\notin colabPorProj_{p} \\implies y{c,d,h,p}==0\n",
    "$$"
   ]
  },
  {
   "cell_type": "code",
   "execution_count": 55,
   "metadata": {},
   "outputs": [],
   "source": [
    "for c in range(C):\n",
    "    for d in range(D):\n",
    "        for t in range(T):\n",
    "            for p in range(P):\n",
    "                if c not in colab_por_proj[p]:\n",
    "                    horario.Add(y[c][d][t][p] == 0)"
   ]
  },
  {
   "cell_type": "markdown",
   "metadata": {},
   "source": [
    "Execução do Solver e formulação da tabela com o horário das reuniões."
   ]
  },
  {
   "cell_type": "code",
   "execution_count": 56,
   "metadata": {},
   "outputs": [
    {
     "name": "stdout",
     "output_type": "stream",
     "text": [
      "0\n",
      "Slots    Dia 0                Dia 1                Dia 2                Dia 3                Dia 4\n",
      "-------  -------------------  -------------------  -------------------  -------------------  -------\n",
      "                                                                                             Slot 0\n",
      "         *Projeto 0 - sala 0  *Projeto 0 - sala 0  *Projeto 2 - sala 0  *Projeto 2 - sala 0  Slot 1\n",
      "          Colab: 0, 3          Colab: 0, 3          Colab: 1, 2          Colab: 1, 2\n",
      "\n",
      "         *Projeto 1 - sala 1  *Projeto 1 - sala 1  *Projeto 3 - sala 1  *Projeto 3 - sala 1\n",
      "          Colab: 1, 2          Colab: 1, 2          Colab: 0, 3          Colab: 0, 3\n",
      "         *Projeto 0 - sala 0  *Projeto 0 - sala 0  *Projeto 2 - sala 0  *Projeto 2 - sala 0  Slot 2\n",
      "          Colab: 0, 3          Colab: 0, 1, 3       Colab: 1, 2          Colab: 2, 3\n",
      "\n",
      "         *Projeto 1 - sala 1                       *Projeto 3 - sala 1\n",
      "          Colab: 1, 2                               Colab: 0, 3\n",
      "         *Projeto 0 - sala 0  *Projeto 0 - sala 0  *Projeto 2 - sala 0  *Projeto 2 - sala 0  Slot 3\n",
      "          Colab: 0, 3          Colab: 0, 3          Colab: 1, 2          Colab: 1, 2\n",
      "\n",
      "         *Projeto 1 - sala 1  *Projeto 2 - sala 1  *Projeto 3 - sala 1  *Projeto 3 - sala 1\n",
      "          Colab: 1, 2          Colab: 1, 2          Colab: 0, 3          Colab: 0, 3\n",
      "         *Projeto 0 - sala 0  *Projeto 0 - sala 0                       *Projeto 3 - sala 0  Slot 4\n",
      "          Colab: 0, 3          Colab: 0, 3                               Colab: 2, 3\n",
      "\n",
      "         *Projeto 1 - sala 1  *Projeto 2 - sala 1\n",
      "          Colab: 1, 2          Colab: 1, 2\n",
      "         *Projeto 0 - sala 0  *Projeto 0 - sala 0  *Projeto 2 - sala 0                       Slot 5\n",
      "          Colab: 0, 3          Colab: 0, 3          Colab: 1, 2\n",
      "\n",
      "         *Projeto 1 - sala 1  *Projeto 2 - sala 1  *Projeto 3 - sala 1\n",
      "          Colab: 1, 2          Colab: 1, 2          Colab: 0, 3\n",
      "         *Projeto 3 - sala 0  *Projeto 2 - sala 0  *Projeto 2 - sala 0                       Slot 6\n",
      "          Colab: 2, 3          Colab: 1, 2          Colab: 1, 2\n",
      "\n",
      "                              *Projeto 3 - sala 1  *Projeto 3 - sala 1\n",
      "                               Colab: 0, 3          Colab: 0, 3\n"
     ]
    }
   ],
   "source": [
    "from tabulate import tabulate\n",
    "\n",
    "status = horario.Solve()\n",
    "print(status)\n",
    "if status== pywraplp.Solver.OPTIMAL:\n",
    "    head = [\"Dia %i\" % d for d in range(D)]\n",
    "    head.insert(0, \"Slots\")\n",
    "    h = [[] for x in range(T)]\n",
    "    for t in range(T):\n",
    "        h[t].insert(0, \"Slot %i\" % t)\n",
    "    for d in range(D):\n",
    "        for t in range(T):\n",
    "            h[t].insert(d, \"\")\n",
    "            for p in range(P):\n",
    "                for s in range(S):\n",
    "                    if round(x[s][d][t][p].solution_value()) == 1:\n",
    "                        h[t][d] += (\"*Projeto %i - sala %i\\n Colab: \" % (p,s))\n",
    "                        for c in range(C):\n",
    "                            if round(y[c][d][t][p].solution_value()) == 1:\n",
    "                                h[t][d] += (\"%i, \" % c)\n",
    "                        h[t][d] = h[t][d][:-2]\n",
    "                        h[t][d] += (\"\\n\\n\")\n",
    "    print(tabulate(h, headers=head))\n",
    "    \n",
    "else:\n",
    "    print(\"Não foi encontrada solução\")"
   ]
  }
 ],
 "metadata": {
  "kernelspec": {
   "display_name": "logica",
   "language": "python",
   "name": "python3"
  },
  "language_info": {
   "codemirror_mode": {
    "name": "ipython",
    "version": 3
   },
   "file_extension": ".py",
   "mimetype": "text/x-python",
   "name": "python",
   "nbconvert_exporter": "python",
   "pygments_lexer": "ipython3",
   "version": "3.10.14"
  }
 },
 "nbformat": 4,
 "nbformat_minor": 2
}
